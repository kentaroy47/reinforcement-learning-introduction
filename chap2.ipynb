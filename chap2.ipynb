{
 "cells": [
  {
   "cell_type": "markdown",
   "id": "b6338cfe",
   "metadata": {},
   "source": [
    "# Train and observe epscilon-greedy bandit\n",
    "\n",
    "written by arutema47\n",
    "\n",
    "Reinforcement Learning: An Introduction"
   ]
  },
  {
   "cell_type": "code",
   "execution_count": 1,
   "id": "40c9611e",
   "metadata": {},
   "outputs": [],
   "source": [
    "import numpy as np\n",
    "import matplotlib.pyplot as plt"
   ]
  },
  {
   "cell_type": "code",
   "execution_count": 135,
   "id": "2e9d7d66",
   "metadata": {},
   "outputs": [],
   "source": [
    "# e-greedy multi-armed bandit\n",
    "class bandit():\n",
    "    def __init__(self, runs=1000, log=100, eps=0, arms=10, init=2, ucb=0, target=[0.2, -0.8, 1.5, 0.3, 1.2, -1.5, -0.2, -0.7, 0.9, 0.5]):\n",
    "        self.arms = arms\n",
    "        self.target = np.array(target)\n",
    "        self.q = np.zeros(arms)+init\n",
    "        self.n = np.zeros(arms)\n",
    "        self.rewards = 0\n",
    "        self.runs = runs\n",
    "        self.log = []\n",
    "        self.log_freq = log\n",
    "        self.e = eps\n",
    "        self.ucb = ucb\n",
    "    \n",
    "    def run(self):\n",
    "        # train loop\n",
    "        for i in range(self.runs):\n",
    "            ep = np.random.rand(1)\n",
    "            # explore or exploit\n",
    "            if ep<self.e:\n",
    "                self.explore()\n",
    "            else:\n",
    "                self.exploit()\n",
    "\n",
    "            if i%self.log_freq:\n",
    "                self.log.append(self.rewards)\n",
    "            \n",
    "    def get_val(self, x):\n",
    "        return np.random.randn(1)+self.target[x]\n",
    "        \n",
    "    def exploit(self):\n",
    "        sel = np.argmax(self.q + self.ucb*np.sqrt(np.log(np.sum(self.n) / self.n)))\n",
    "        get = self.get_val(sel)\n",
    "        self.update(sel, get)\n",
    "        \n",
    "    def explore(self):\n",
    "        sel = np.random.randint(self.arms-1)\n",
    "        get = self.get_val(sel)\n",
    "        self.update(sel, get)\n",
    "    \n",
    "    def update(self, sel, get):\n",
    "        self.n[sel] += 1\n",
    "        # calculate Q\n",
    "        new_q = self.q[sel] + 1/self.n[sel] * (get - self.q[sel])\n",
    "        self.q[sel] = new_q # update\n",
    "        # for plot\n",
    "        self.rewards = np.sum((self.q*self.n))/np.sum(self.n)"
   ]
  },
  {
   "cell_type": "markdown",
   "id": "4d500135",
   "metadata": {},
   "source": [
    "# Train"
   ]
  },
  {
   "cell_type": "code",
   "execution_count": 136,
   "id": "90ff8f5a",
   "metadata": {},
   "outputs": [
    {
     "name": "stdout",
     "output_type": "stream",
     "text": [
      "greedy\n"
     ]
    },
    {
     "name": "stderr",
     "output_type": "stream",
     "text": [
      "C:\\Users\\kyosh\\miniconda3\\envs\\pytorch\\lib\\site-packages\\ipykernel_launcher.py:32: RuntimeWarning: invalid value encountered in true_divide\n",
      "C:\\Users\\kyosh\\miniconda3\\envs\\pytorch\\lib\\site-packages\\ipykernel_launcher.py:32: RuntimeWarning: divide by zero encountered in true_divide\n",
      "C:\\Users\\kyosh\\miniconda3\\envs\\pytorch\\lib\\site-packages\\ipykernel_launcher.py:32: RuntimeWarning: invalid value encountered in multiply\n"
     ]
    }
   ],
   "source": [
    "print(\"greedy\")\n",
    "greed = []\n",
    "for i in range(10):\n",
    "    model = bandit()\n",
    "    model.run()\n",
    "    greed.append(model.log)"
   ]
  },
  {
   "cell_type": "code",
   "execution_count": 137,
   "id": "46ab1645",
   "metadata": {},
   "outputs": [
    {
     "name": "stdout",
     "output_type": "stream",
     "text": [
      "e=0.1\n"
     ]
    },
    {
     "name": "stderr",
     "output_type": "stream",
     "text": [
      "C:\\Users\\kyosh\\miniconda3\\envs\\pytorch\\lib\\site-packages\\ipykernel_launcher.py:32: RuntimeWarning: invalid value encountered in true_divide\n",
      "C:\\Users\\kyosh\\miniconda3\\envs\\pytorch\\lib\\site-packages\\ipykernel_launcher.py:32: RuntimeWarning: divide by zero encountered in true_divide\n",
      "C:\\Users\\kyosh\\miniconda3\\envs\\pytorch\\lib\\site-packages\\ipykernel_launcher.py:32: RuntimeWarning: invalid value encountered in multiply\n"
     ]
    }
   ],
   "source": [
    "print(\"e=0.1\")\n",
    "e1 = []\n",
    "for i in range(100):\n",
    "    model = bandit(eps=0.1)\n",
    "    model.run()\n",
    "    e1.append(model.log)"
   ]
  },
  {
   "cell_type": "code",
   "execution_count": 138,
   "id": "84cfa2c5",
   "metadata": {},
   "outputs": [
    {
     "name": "stdout",
     "output_type": "stream",
     "text": [
      "e=0.01\n"
     ]
    },
    {
     "name": "stderr",
     "output_type": "stream",
     "text": [
      "C:\\Users\\kyosh\\miniconda3\\envs\\pytorch\\lib\\site-packages\\ipykernel_launcher.py:32: RuntimeWarning: invalid value encountered in true_divide\n",
      "C:\\Users\\kyosh\\miniconda3\\envs\\pytorch\\lib\\site-packages\\ipykernel_launcher.py:32: RuntimeWarning: divide by zero encountered in true_divide\n",
      "C:\\Users\\kyosh\\miniconda3\\envs\\pytorch\\lib\\site-packages\\ipykernel_launcher.py:32: RuntimeWarning: invalid value encountered in multiply\n"
     ]
    }
   ],
   "source": [
    "print(\"e=0.01\")\n",
    "e2 = []\n",
    "for i in range(10):\n",
    "    model = bandit(eps=0.01)\n",
    "    model.run()\n",
    "    e2.append(model.log)"
   ]
  },
  {
   "cell_type": "code",
   "execution_count": 139,
   "id": "8727f76a",
   "metadata": {},
   "outputs": [
    {
     "name": "stdout",
     "output_type": "stream",
     "text": [
      "e=0.5\n"
     ]
    },
    {
     "name": "stderr",
     "output_type": "stream",
     "text": [
      "C:\\Users\\kyosh\\miniconda3\\envs\\pytorch\\lib\\site-packages\\ipykernel_launcher.py:32: RuntimeWarning: divide by zero encountered in true_divide\n",
      "C:\\Users\\kyosh\\miniconda3\\envs\\pytorch\\lib\\site-packages\\ipykernel_launcher.py:32: RuntimeWarning: invalid value encountered in multiply\n",
      "C:\\Users\\kyosh\\miniconda3\\envs\\pytorch\\lib\\site-packages\\ipykernel_launcher.py:32: RuntimeWarning: invalid value encountered in true_divide\n"
     ]
    }
   ],
   "source": [
    "print(\"e=0.5\")\n",
    "e3 = []\n",
    "for i in range(10):\n",
    "    model = bandit(eps=0.5)\n",
    "    model.run()\n",
    "    e3.append(model.log)"
   ]
  },
  {
   "cell_type": "code",
   "execution_count": 140,
   "id": "438d0377",
   "metadata": {},
   "outputs": [
    {
     "data": {
      "text/plain": [
       "<matplotlib.legend.Legend at 0x1f584b08608>"
      ]
     },
     "execution_count": 140,
     "metadata": {},
     "output_type": "execute_result"
    },
    {
     "data": {
      "image/png": "[encoded data removed]",
      "text/plain": [
       "<Figure size 432x288 with 1 Axes>"
      ]
     },
     "metadata": {
      "needs_background": "light"
     },
     "output_type": "display_data"
    }
   ],
   "source": [
    "plt.plot(np.array(greed).mean(0), label=\"greedy\")\n",
    "plt.plot(np.array(e1).mean(0), label=\"eps=0.1\")\n",
    "plt.plot(np.array(e2).mean(0), label=\"eps=0.01\")\n",
    "plt.plot(np.array(e3).mean(0), label=\"eps=0.5\")\n",
    "plt.legend()"
   ]
  },
  {
   "cell_type": "markdown",
   "id": "d30e739b",
   "metadata": {},
   "source": [
    "シードで結果がぜんぜん違うので100回試行を平均化"
   ]
  },
  {
   "cell_type": "markdown",
   "id": "ec524070",
   "metadata": {},
   "source": [
    "# Large initial values"
   ]
  },
  {
   "cell_type": "code",
   "execution_count": 98,
   "id": "42b3e9b6",
   "metadata": {},
   "outputs": [
    {
     "name": "stdout",
     "output_type": "stream",
     "text": [
      "greedy\n"
     ]
    }
   ],
   "source": [
    "print(\"greedy\")\n",
    "greed = []\n",
    "for i in range(1):\n",
    "    model = bandit(runs=10000)\n",
    "    model.run()\n",
    "    greed.append(model.log)"
   ]
  },
  {
   "cell_type": "code",
   "execution_count": 99,
   "id": "7eff5962",
   "metadata": {},
   "outputs": [
    {
     "name": "stdout",
     "output_type": "stream",
     "text": [
      "greedy\n"
     ]
    }
   ],
   "source": [
    "print(\"greedy\")\n",
    "greed2 = []\n",
    "for i in range(1):\n",
    "    model = bandit(runs=10000, init=5)\n",
    "    model.run()\n",
    "    greed2.append(model.log)"
   ]
  },
  {
   "cell_type": "code",
   "execution_count": 100,
   "id": "cad0fed8",
   "metadata": {},
   "outputs": [
    {
     "data": {
      "text/plain": [
       "<matplotlib.legend.Legend at 0x1f5a9870e48>"
      ]
     },
     "execution_count": 100,
     "metadata": {},
     "output_type": "execute_result"
    },
    {
     "data": {
      "image/png": "[encoded data removed]",
      "text/plain": [
       "<Figure size 432x288 with 1 Axes>"
      ]
     },
     "metadata": {
      "needs_background": "light"
     },
     "output_type": "display_data"
    }
   ],
   "source": [
    "plt.plot(np.array(greed).mean(0), label=\"greedy\")\n",
    "plt.plot(np.array(greed2).mean(0), label=\"greedy init:5\")\n",
    "plt.legend()"
   ]
  },
  {
   "cell_type": "markdown",
   "id": "0532ef85",
   "metadata": {},
   "source": [
    "# Upper-confidence bound"
   ]
  },
  {
   "cell_type": "code",
   "execution_count": 102,
   "id": "e1c1eecd",
   "metadata": {},
   "outputs": [
    {
     "name": "stdout",
     "output_type": "stream",
     "text": [
      "e=0.1\n"
     ]
    },
    {
     "name": "stderr",
     "output_type": "stream",
     "text": [
      "C:\\Users\\kyosh\\miniconda3\\envs\\pytorch\\lib\\site-packages\\ipykernel_launcher.py:32: RuntimeWarning: divide by zero encountered in true_divide\n",
      "C:\\Users\\kyosh\\miniconda3\\envs\\pytorch\\lib\\site-packages\\ipykernel_launcher.py:32: RuntimeWarning: invalid value encountered in multiply\n"
     ]
    }
   ],
   "source": [
    "print(\"e=0.1\")\n",
    "e1 = []\n",
    "for i in range(100):\n",
    "    model = bandit(eps=0.1)\n",
    "    model.run()\n",
    "    e1.append(model.log)"
   ]
  },
  {
   "cell_type": "code",
   "execution_count": 103,
   "id": "915063d7",
   "metadata": {},
   "outputs": [
    {
     "name": "stdout",
     "output_type": "stream",
     "text": [
      "ucb\n"
     ]
    },
    {
     "name": "stderr",
     "output_type": "stream",
     "text": [
      "C:\\Users\\kyosh\\miniconda3\\envs\\pytorch\\lib\\site-packages\\ipykernel_launcher.py:32: RuntimeWarning: divide by zero encountered in true_divide\n"
     ]
    }
   ],
   "source": [
    "print(\"ucb\")\n",
    "e2 = []\n",
    "for i in range(100):\n",
    "    model = bandit(eps=0.1, ucb=2)\n",
    "    model.run()\n",
    "    e2.append(model.log)"
   ]
  },
  {
   "cell_type": "code",
   "execution_count": 104,
   "id": "0518d368",
   "metadata": {},
   "outputs": [
    {
     "data": {
      "text/plain": [
       "<matplotlib.legend.Legend at 0x1f5901afd48>"
      ]
     },
     "execution_count": 104,
     "metadata": {},
     "output_type": "execute_result"
    },
    {
     "data": {
      "image/png": "[encoded data removed]",
      "text/plain": [
       "<Figure size 432x288 with 1 Axes>"
      ]
     },
     "metadata": {
      "needs_background": "light"
     },
     "output_type": "display_data"
    }
   ],
   "source": [
    "plt.plot(np.array(e1).mean(0), label=\"eps=0.1\")\n",
    "plt.plot(np.array(e2).mean(0), label=\"eps=0.1 + ucb=2\")\n",
    "plt.legend()"
   ]
  }
 ],
 "metadata": {
  "kernelspec": {
   "display_name": "Python 3",
   "language": "python",
   "name": "python3"
  },
  "language_info": {
   "codemirror_mode": {
    "name": "ipython",
    "version": 3
   },
   "file_extension": ".py",
   "mimetype": "text/x-python",
   "name": "python",
   "nbconvert_exporter": "python",
   "pygments_lexer": "ipython3",
   "version": "3.7.10"
  }
 },
 "nbformat": 4,
 "nbformat_minor": 5
}
